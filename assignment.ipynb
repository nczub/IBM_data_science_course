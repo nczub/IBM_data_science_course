{
  "metadata": {
    "language_info": {
      "codemirror_mode": {
        "name": "python",
        "version": 3
      },
      "file_extension": ".py",
      "mimetype": "text/x-python",
      "name": "python",
      "nbconvert_exporter": "python",
      "pygments_lexer": "ipython3",
      "version": "3.8"
    },
    "kernelspec": {
      "name": "python",
      "display_name": "Pyolite",
      "language": "python"
    }
  },
  "nbformat_minor": 4,
  "nbformat": 4,
  "cells": [
    {
      "cell_type": "markdown",
      "source": "# My Jupyter Notebook on IBM Watson Studio",
      "metadata": {}
    },
    {
      "cell_type": "markdown",
      "source": "<b> Natalia Czub\n    \nI would like to become a Data Scientist one day",
      "metadata": {}
    },
    {
      "cell_type": "markdown",
      "source": "<i>I am interested in data science because is one of the fastest developing area of science. Thanks to data science we can explain almost all relation between variables. </i>\n",
      "metadata": {}
    },
    {
      "cell_type": "markdown",
      "source": "### The code below multiple two natural numbers",
      "metadata": {}
    },
    {
      "cell_type": "code",
      "source": "3 * 5",
      "metadata": {
        "trusted": true
      },
      "execution_count": 1,
      "outputs": [
        {
          "execution_count": 1,
          "output_type": "execute_result",
          "data": {
            "text/plain": "15"
          },
          "metadata": {}
        }
      ]
    },
    {
      "cell_type": "markdown",
      "source": "- D\n- A\n- T\n- A\n\n<code> Python\n</code>   \n\n\n<ol>\n<li>Student</li>\n<li>PhD student</li>\n<li>PhD</li>\n<li>Professor</li>\n</ol>",
      "metadata": {}
    },
    {
      "cell_type": "code",
      "source": "",
      "metadata": {},
      "execution_count": null,
      "outputs": []
    }
  ]
}